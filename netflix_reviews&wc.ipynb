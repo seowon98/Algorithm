{
  "nbformat": 4,
  "nbformat_minor": 0,
  "metadata": {
    "colab": {
      "name": "netflix_reviews.ipynb",
      "private_outputs": true,
      "provenance": [],
      "collapsed_sections": [],
      "authorship_tag": "ABX9TyOwMOcZf6Pv48mhyrffVz93",
      "include_colab_link": true
    },
    "kernelspec": {
      "name": "python3",
      "display_name": "Python 3"
    }
  },
  "cells": [
    {
      "cell_type": "markdown",
      "metadata": {
        "id": "view-in-github",
        "colab_type": "text"
      },
      "source": [
        "<a href=\"https://colab.research.google.com/github/seowon98/Algorithm/blob/master/netflix_reviews%26wc.ipynb\" target=\"_parent\"><img src=\"https://colab.research.google.com/assets/colab-badge.svg\" alt=\"Open In Colab\"/></a>"
      ]
    },
    {
      "cell_type": "code",
      "metadata": {
        "id": "A4TpTRM4kuYq"
      },
      "source": [
        "from google.colab import drive\r\n",
        "drive.mount('/content/gdrive')"
      ],
      "execution_count": null,
      "outputs": []
    },
    {
      "cell_type": "code",
      "metadata": {
        "id": "EHhCeRLnkvS7"
      },
      "source": [
        "import pandas as pd\r\n",
        "\r\n",
        "crawling_data = pd.read_csv(\"/content/gdrive/MyDrive/Colab Notebooks/넷플릭스앱리뷰.csv\")"
      ],
      "execution_count": null,
      "outputs": []
    },
    {
      "cell_type": "code",
      "metadata": {
        "id": "pDZaAZ-zk3BJ"
      },
      "source": [
        "crawling_data.head()"
      ],
      "execution_count": null,
      "outputs": []
    },
    {
      "cell_type": "code",
      "metadata": {
        "id": "RdCVZPrslNGK"
      },
      "source": [
        "review_data = crawling_data['후기']"
      ],
      "execution_count": null,
      "outputs": []
    },
    {
      "cell_type": "code",
      "metadata": {
        "id": "mf1X1fvdnQUL"
      },
      "source": [
        "pip install konlpy"
      ],
      "execution_count": null,
      "outputs": []
    },
    {
      "cell_type": "code",
      "metadata": {
        "id": "bckWPEyAm9mP"
      },
      "source": [
        "from konlpy.tag import Hannanum, Kkma, Okt\r\n",
        "import pandas as pd"
      ],
      "execution_count": null,
      "outputs": []
    },
    {
      "cell_type": "code",
      "metadata": {
        "id": "cLG5t4Bmnax6"
      },
      "source": [
        "hannanum = Hannanum()\r\n",
        "kkma =Kkma()\r\n",
        "okt = Okt()"
      ],
      "execution_count": null,
      "outputs": []
    },
    {
      "cell_type": "code",
      "metadata": {
        "id": "oXP313GqtilY"
      },
      "source": [
        "okt_noums = okt.nouns(review_data[1])\r\n",
        "print (\"okt_noums\",okt_noums)"
      ],
      "execution_count": null,
      "outputs": []
    },
    {
      "cell_type": "code",
      "metadata": {
        "id": "8Tn88lTcyggg"
      },
      "source": [
        "import csv\r\n",
        "filename = \"형태소분절_넷플.csv\"\r\n",
        "f = open(filename, \"w\", encoding=\"utf-8-sig\", newline=\"\")\r\n",
        "#        파일 쓰기      엑셀에서 한글 깨짐 방지    한 줄씩\r\n",
        "writer = csv.writer(f)"
      ],
      "execution_count": null,
      "outputs": []
    },
    {
      "cell_type": "code",
      "metadata": {
        "id": "ZVLtBZ5R0kPd"
      },
      "source": [
        "pip install openpyxl"
      ],
      "execution_count": null,
      "outputs": []
    },
    {
      "cell_type": "code",
      "metadata": {
        "id": "OUkcqrVO0pmg"
      },
      "source": [
        "import pandas as pd\r\n",
        "import numpy as np"
      ],
      "execution_count": null,
      "outputs": []
    },
    {
      "cell_type": "code",
      "metadata": {
        "id": "QJx9WWER1n3t"
      },
      "source": [
        "import csv    \r\n",
        "\r\n",
        "f = open(r'/content/gdrive/MyDrive/Colab Notebooks/넷플앱리뷰!.csv','w',newline='',encoding='utf8') \r\n",
        "w = csv.writer(f)\r\n",
        "w.writerow(['후기- 형태소로 분절']) #헤더"
      ],
      "execution_count": null,
      "outputs": []
    },
    {
      "cell_type": "code",
      "metadata": {
        "id": "i1WYiFqtyOa3"
      },
      "source": [
        "for reviews in review_data:\r\n",
        "    okt_noums = okt.nouns(reviews)\r\n",
        "    w.writerow(okt_noums)\r\n",
        "f.close()"
      ],
      "execution_count": null,
      "outputs": []
    },
    {
      "cell_type": "code",
      "metadata": {
        "id": "xwKcX4fY3lv-"
      },
      "source": [
        "f = open('/content/gdrive/MyDrive/Colab Notebooks/넷플앱리뷰!.csv')"
      ],
      "execution_count": null,
      "outputs": []
    },
    {
      "cell_type": "code",
      "metadata": {
        "id": "-xC4GcRf6MEq"
      },
      "source": [
        "data=f.read()"
      ],
      "execution_count": null,
      "outputs": []
    },
    {
      "cell_type": "code",
      "metadata": {
        "id": "I2lij1q156Ke"
      },
      "source": [
        "data"
      ],
      "execution_count": null,
      "outputs": []
    },
    {
      "cell_type": "code",
      "metadata": {
        "id": "7yQF5i215JXK"
      },
      "source": [
        "npl=Okt()"
      ],
      "execution_count": null,
      "outputs": []
    },
    {
      "cell_type": "code",
      "metadata": {
        "id": "CP4iVM7i5MHk"
      },
      "source": [
        "nouns=npl.nouns(data)"
      ],
      "execution_count": null,
      "outputs": []
    },
    {
      "cell_type": "code",
      "metadata": {
        "id": "Fthvej245087"
      },
      "source": [
        "nouns"
      ],
      "execution_count": null,
      "outputs": []
    },
    {
      "cell_type": "code",
      "metadata": {
        "id": "feNTBn5tC_HZ"
      },
      "source": [
        "pip install pytagcloud"
      ],
      "execution_count": null,
      "outputs": []
    },
    {
      "cell_type": "code",
      "metadata": {
        "id": "4KmVGQSuDHim"
      },
      "source": [
        "pip install pygame"
      ],
      "execution_count": null,
      "outputs": []
    },
    {
      "cell_type": "code",
      "metadata": {
        "id": "UrFiKt8tDPW0"
      },
      "source": [
        "pip install simplejson"
      ],
      "execution_count": null,
      "outputs": []
    },
    {
      "cell_type": "code",
      "metadata": {
        "id": "Rm1n7fsnC89F"
      },
      "source": [
        "from collections import Counter\r\n",
        "from konlpy.tag import Twitter\r\n",
        "import pytagcloud"
      ],
      "execution_count": null,
      "outputs": []
    },
    {
      "cell_type": "code",
      "metadata": {
        "id": "I7tp3SaA5PT-"
      },
      "source": [
        "count=Counter(nouns)"
      ],
      "execution_count": null,
      "outputs": []
    },
    {
      "cell_type": "code",
      "metadata": {
        "id": "6CME6rzj5TtZ"
      },
      "source": [
        "tags=count.most_common(20) # 상위20 "
      ],
      "execution_count": null,
      "outputs": []
    },
    {
      "cell_type": "code",
      "metadata": {
        "id": "3ifDbJRhFmCn"
      },
      "source": [
        "tags"
      ],
      "execution_count": null,
      "outputs": []
    },
    {
      "cell_type": "code",
      "metadata": {
        "id": "n6Q5ZTBLIhZr"
      },
      "source": [
        "import nltk\r\n",
        "from konlpy.corpus import  kobill"
      ],
      "execution_count": null,
      "outputs": []
    },
    {
      "cell_type": "code",
      "metadata": {
        "id": "WTsdTh-4IspU"
      },
      "source": [
        "files_ko = kobill.fileids()"
      ],
      "execution_count": null,
      "outputs": []
    },
    {
      "cell_type": "code",
      "metadata": {
        "id": "j951mLbe5un-"
      },
      "source": [
        "count.most_common(100) # 100개"
      ],
      "execution_count": null,
      "outputs": []
    },
    {
      "cell_type": "code",
      "metadata": {
        "id": "S17k1s_9DmKC"
      },
      "source": [
        "tag2=count.most_common(20)"
      ],
      "execution_count": null,
      "outputs": []
    },
    {
      "cell_type": "code",
      "metadata": {
        "id": "NU0j3U0D5XUV"
      },
      "source": [
        "taglist=pytagcloud.make_tags(tag2,maxsize=80)"
      ],
      "execution_count": null,
      "outputs": []
    },
    {
      "cell_type": "code",
      "metadata": {
        "id": "FEVf3LMCDtEN"
      },
      "source": [
        "f.close()"
      ],
      "execution_count": null,
      "outputs": []
    },
    {
      "cell_type": "code",
      "metadata": {
        "id": "Y6eEjKF7FKSi"
      },
      "source": [
        "import matplotlib as mpl\r\n",
        "import matplotlib.pyplot as plt\r\n",
        " \r\n",
        "%config InlineBackend.figure_format = 'retina'\r\n",
        " \r\n",
        "!apt -qq -y install fonts-nanum\r\n",
        " \r\n",
        "import matplotlib.font_manager as fm\r\n",
        "fontpath = '/usr/share/fonts/truetype/nanum/NanumBarunGothic.ttf'\r\n",
        "font = fm.FontProperties(fname=fontpath, size=9)\r\n",
        "plt.rc('font', family='NanumBarunGothic') \r\n",
        "mpl.font_manager._rebuild()"
      ],
      "execution_count": null,
      "outputs": []
    },
    {
      "cell_type": "code",
      "metadata": {
        "id": "sGrAOgt4Jm4G"
      },
      "source": [
        "wc=WordCloud(font_path=fontpath, relative_scaling=0.2,\r\n",
        "             background_color='white').generate_from_frequencies(dict(tags))"
      ],
      "execution_count": null,
      "outputs": []
    },
    {
      "cell_type": "code",
      "metadata": {
        "id": "_o8lv2VLFifw"
      },
      "source": [
        "plt.figure()\r\n",
        "plt.imshow(wc)\r\n",
        "plt.axis('off')\r\n",
        "plt.show()"
      ],
      "execution_count": null,
      "outputs": []
    },
    {
      "cell_type": "code",
      "metadata": {
        "id": "fIsq7BUwlP0n"
      },
      "source": [
        "import collections\r\n",
        "frequency_d = collections.Counter( okt_noums )"
      ],
      "execution_count": null,
      "outputs": []
    },
    {
      "cell_type": "code",
      "metadata": {
        "id": "aEZQUpPNone5"
      },
      "source": [
        "frequency_d"
      ],
      "execution_count": null,
      "outputs": []
    },
    {
      "cell_type": "code",
      "metadata": {
        "id": "c0bI407ioq7r"
      },
      "source": [
        "from wordcloud import WordCloud, STOPWORDS\r\n",
        "import matplotlib.pyplot as plt\r\n",
        "%matplotlib inline\r\n",
        "\r\n",
        "\r\n",
        "# 자신의 컴퓨터 환경에 맞는 한글 폰트 경로를 설정\r\n",
        "font_path = 'c:/Windows/Fonts/a고딕10.ttf'"
      ],
      "execution_count": null,
      "outputs": []
    }
  ]
}